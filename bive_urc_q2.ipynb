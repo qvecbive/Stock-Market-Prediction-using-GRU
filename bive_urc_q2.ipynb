{
 "cells": [
  {
   "cell_type": "markdown",
   "id": "830ce1c8",
   "metadata": {},
   "source": [
    "# BIVE, QUIZ 2"
   ]
  },
  {
   "cell_type": "code",
   "execution_count": 437,
   "id": "b17e8f74",
   "metadata": {},
   "outputs": [
    {
     "name": "stdout",
     "output_type": "stream",
     "text": [
      "[*********************100%***********************]  1 of 1 completed\n"
     ]
    }
   ],
   "source": [
    "#Gather the stock market data of Universal Robina Corporation at Yahoo Finances\n",
    "import yfinance as yf\n",
    "UR_corp = 'UVRBF'\n",
    "#Taking the two-year historical data of URC stocks\n",
    "UR_stocks = yf.download(tickers=UR_corp, period='2y', interval='1d')"
   ]
  },
  {
   "cell_type": "code",
   "execution_count": 438,
   "id": "de0b6026",
   "metadata": {},
   "outputs": [
    {
     "data": {
      "text/html": [
       "<div>\n",
       "<style scoped>\n",
       "    .dataframe tbody tr th:only-of-type {\n",
       "        vertical-align: middle;\n",
       "    }\n",
       "\n",
       "    .dataframe tbody tr th {\n",
       "        vertical-align: top;\n",
       "    }\n",
       "\n",
       "    .dataframe thead th {\n",
       "        text-align: right;\n",
       "    }\n",
       "</style>\n",
       "<table border=\"1\" class=\"dataframe\">\n",
       "  <thead>\n",
       "    <tr style=\"text-align: right;\">\n",
       "      <th></th>\n",
       "      <th>Open</th>\n",
       "      <th>High</th>\n",
       "      <th>Low</th>\n",
       "      <th>Close</th>\n",
       "      <th>Adj Close</th>\n",
       "      <th>Volume</th>\n",
       "    </tr>\n",
       "    <tr>\n",
       "      <th>Date</th>\n",
       "      <th></th>\n",
       "      <th></th>\n",
       "      <th></th>\n",
       "      <th></th>\n",
       "      <th></th>\n",
       "      <th></th>\n",
       "    </tr>\n",
       "  </thead>\n",
       "  <tbody>\n",
       "    <tr>\n",
       "      <th>2020-10-12 00:00:00-04:00</th>\n",
       "      <td>2.61</td>\n",
       "      <td>2.61</td>\n",
       "      <td>2.61</td>\n",
       "      <td>2.61</td>\n",
       "      <td>2.462778</td>\n",
       "      <td>0</td>\n",
       "    </tr>\n",
       "    <tr>\n",
       "      <th>2020-10-13 00:00:00-04:00</th>\n",
       "      <td>2.61</td>\n",
       "      <td>2.61</td>\n",
       "      <td>2.61</td>\n",
       "      <td>2.61</td>\n",
       "      <td>2.462778</td>\n",
       "      <td>0</td>\n",
       "    </tr>\n",
       "    <tr>\n",
       "      <th>2020-10-14 00:00:00-04:00</th>\n",
       "      <td>2.79</td>\n",
       "      <td>2.79</td>\n",
       "      <td>2.79</td>\n",
       "      <td>2.79</td>\n",
       "      <td>2.632624</td>\n",
       "      <td>3500</td>\n",
       "    </tr>\n",
       "    <tr>\n",
       "      <th>2020-10-15 00:00:00-04:00</th>\n",
       "      <td>2.79</td>\n",
       "      <td>2.79</td>\n",
       "      <td>2.79</td>\n",
       "      <td>2.79</td>\n",
       "      <td>2.632624</td>\n",
       "      <td>0</td>\n",
       "    </tr>\n",
       "    <tr>\n",
       "      <th>2020-10-16 00:00:00-04:00</th>\n",
       "      <td>2.79</td>\n",
       "      <td>2.79</td>\n",
       "      <td>2.79</td>\n",
       "      <td>2.79</td>\n",
       "      <td>2.632624</td>\n",
       "      <td>0</td>\n",
       "    </tr>\n",
       "  </tbody>\n",
       "</table>\n",
       "</div>"
      ],
      "text/plain": [
       "                           Open  High   Low  Close  Adj Close  Volume\n",
       "Date                                                                 \n",
       "2020-10-12 00:00:00-04:00  2.61  2.61  2.61   2.61   2.462778       0\n",
       "2020-10-13 00:00:00-04:00  2.61  2.61  2.61   2.61   2.462778       0\n",
       "2020-10-14 00:00:00-04:00  2.79  2.79  2.79   2.79   2.632624    3500\n",
       "2020-10-15 00:00:00-04:00  2.79  2.79  2.79   2.79   2.632624       0\n",
       "2020-10-16 00:00:00-04:00  2.79  2.79  2.79   2.79   2.632624       0"
      ]
     },
     "execution_count": 438,
     "metadata": {},
     "output_type": "execute_result"
    }
   ],
   "source": [
    "#Start of dataset\n",
    "UR_stocks.head()"
   ]
  },
  {
   "cell_type": "code",
   "execution_count": 439,
   "id": "2b9ed441",
   "metadata": {},
   "outputs": [
    {
     "data": {
      "text/html": [
       "<div>\n",
       "<style scoped>\n",
       "    .dataframe tbody tr th:only-of-type {\n",
       "        vertical-align: middle;\n",
       "    }\n",
       "\n",
       "    .dataframe tbody tr th {\n",
       "        vertical-align: top;\n",
       "    }\n",
       "\n",
       "    .dataframe thead th {\n",
       "        text-align: right;\n",
       "    }\n",
       "</style>\n",
       "<table border=\"1\" class=\"dataframe\">\n",
       "  <thead>\n",
       "    <tr style=\"text-align: right;\">\n",
       "      <th></th>\n",
       "      <th>Open</th>\n",
       "      <th>High</th>\n",
       "      <th>Low</th>\n",
       "      <th>Close</th>\n",
       "      <th>Adj Close</th>\n",
       "      <th>Volume</th>\n",
       "    </tr>\n",
       "    <tr>\n",
       "      <th>Date</th>\n",
       "      <th></th>\n",
       "      <th></th>\n",
       "      <th></th>\n",
       "      <th></th>\n",
       "      <th></th>\n",
       "      <th></th>\n",
       "    </tr>\n",
       "  </thead>\n",
       "  <tbody>\n",
       "    <tr>\n",
       "      <th>2022-10-04 00:00:00-04:00</th>\n",
       "      <td>1.86</td>\n",
       "      <td>1.86</td>\n",
       "      <td>1.86</td>\n",
       "      <td>1.86</td>\n",
       "      <td>1.86</td>\n",
       "      <td>0</td>\n",
       "    </tr>\n",
       "    <tr>\n",
       "      <th>2022-10-05 00:00:00-04:00</th>\n",
       "      <td>1.86</td>\n",
       "      <td>1.86</td>\n",
       "      <td>1.86</td>\n",
       "      <td>1.86</td>\n",
       "      <td>1.86</td>\n",
       "      <td>0</td>\n",
       "    </tr>\n",
       "    <tr>\n",
       "      <th>2022-10-06 00:00:00-04:00</th>\n",
       "      <td>1.86</td>\n",
       "      <td>1.86</td>\n",
       "      <td>1.86</td>\n",
       "      <td>1.86</td>\n",
       "      <td>1.86</td>\n",
       "      <td>0</td>\n",
       "    </tr>\n",
       "    <tr>\n",
       "      <th>2022-10-07 00:00:00-04:00</th>\n",
       "      <td>1.80</td>\n",
       "      <td>1.80</td>\n",
       "      <td>1.80</td>\n",
       "      <td>1.80</td>\n",
       "      <td>1.80</td>\n",
       "      <td>100</td>\n",
       "    </tr>\n",
       "    <tr>\n",
       "      <th>2022-10-10 00:00:00-04:00</th>\n",
       "      <td>1.80</td>\n",
       "      <td>1.80</td>\n",
       "      <td>1.80</td>\n",
       "      <td>1.80</td>\n",
       "      <td>1.80</td>\n",
       "      <td>0</td>\n",
       "    </tr>\n",
       "  </tbody>\n",
       "</table>\n",
       "</div>"
      ],
      "text/plain": [
       "                           Open  High   Low  Close  Adj Close  Volume\n",
       "Date                                                                 \n",
       "2022-10-04 00:00:00-04:00  1.86  1.86  1.86   1.86       1.86       0\n",
       "2022-10-05 00:00:00-04:00  1.86  1.86  1.86   1.86       1.86       0\n",
       "2022-10-06 00:00:00-04:00  1.86  1.86  1.86   1.86       1.86       0\n",
       "2022-10-07 00:00:00-04:00  1.80  1.80  1.80   1.80       1.80     100\n",
       "2022-10-10 00:00:00-04:00  1.80  1.80  1.80   1.80       1.80       0"
      ]
     },
     "execution_count": 439,
     "metadata": {},
     "output_type": "execute_result"
    }
   ],
   "source": [
    "#End of dataset\n",
    "UR_stocks.tail()"
   ]
  },
  {
   "cell_type": "code",
   "execution_count": 440,
   "id": "02c33a8a",
   "metadata": {},
   "outputs": [
    {
     "data": {
      "text/plain": [
       "503"
      ]
     },
     "execution_count": 440,
     "metadata": {},
     "output_type": "execute_result"
    }
   ],
   "source": [
    "len(UR_stocks)"
   ]
  },
  {
   "cell_type": "code",
   "execution_count": 441,
   "id": "ec0af73c",
   "metadata": {},
   "outputs": [
    {
     "data": {
      "text/plain": [
       "<AxesSubplot:xlabel='Date'>"
      ]
     },
     "execution_count": 441,
     "metadata": {},
     "output_type": "execute_result"
    },
    {
     "data": {
      "image/png": "[encoded data removed]",
      "text/plain": [
       "<Figure size 432x288 with 1 Axes>"
      ]
     },
     "metadata": {
      "needs_background": "light"
     },
     "output_type": "display_data"
    }
   ],
   "source": [
    "#Plot the Adj Close section of the dataset\n",
    "UR_adj_close = UR_stocks[['Adj Close']]\n",
    "UR_adj_close.plot()"
   ]
  },
  {
   "cell_type": "code",
   "execution_count": 446,
   "id": "3908b8ed",
   "metadata": {},
   "outputs": [
    {
     "data": {
      "text/plain": [
       "array([[2.46277761],\n",
       "       [2.46277761],\n",
       "       [2.63262415],\n",
       "       [2.63262415],\n",
       "       [2.63262415],\n",
       "       [2.63262415],\n",
       "       [2.63262415],\n",
       "       [2.63262415],\n",
       "       [2.7552917 ],\n",
       "       [2.7552917 ],\n",
       "       [2.7552917 ],\n",
       "       [2.7552917 ],\n",
       "       [2.7552917 ],\n",
       "       [2.7552917 ],\n",
       "       [2.7552917 ],\n",
       "       [2.7552917 ],\n",
       "       [2.68923974],\n",
       "       [2.68923974],\n",
       "       [2.68923974],\n",
       "       [2.68923974],\n",
       "       [2.82134318],\n",
       "       [2.83077884],\n",
       "       [2.83077884],\n",
       "       [2.83077884],\n",
       "       [2.87795854],\n",
       "       [2.87795854],\n",
       "       [2.87795854],\n",
       "       [2.87795854],\n",
       "       [2.97231817],\n",
       "       [2.97231817],\n",
       "       [2.97231817],\n",
       "       [2.97231817],\n",
       "       [2.97231817],\n",
       "       [2.97231817],\n",
       "       [2.97231817],\n",
       "       [2.97231817],\n",
       "       [2.97231817],\n",
       "       [2.97231817],\n",
       "       [2.97231817],\n",
       "       [2.97231817],\n",
       "       [2.71754789],\n",
       "       [2.71754789],\n",
       "       [2.71754789],\n",
       "       [2.71754789],\n",
       "       [2.71754789],\n",
       "       [2.71754789],\n",
       "       [2.71754789],\n",
       "       [2.71754789],\n",
       "       [2.71754789],\n",
       "       [2.88739443],\n",
       "       [2.88739443],\n",
       "       [2.88739443],\n",
       "       [2.88739443],\n",
       "       [2.89683056],\n",
       "       [2.97231817],\n",
       "       [2.97231817],\n",
       "       [2.97231817],\n",
       "       [2.97231817],\n",
       "       [2.97231817],\n",
       "       [2.97231817],\n",
       "       [2.97231817],\n",
       "       [3.05724144],\n",
       "       [3.05724144],\n",
       "       [3.05724144],\n",
       "       [3.05724144],\n",
       "       [3.05724144],\n",
       "       [3.05724144],\n",
       "       [3.05724144],\n",
       "       [3.05724144],\n",
       "       [3.05724144],\n",
       "       [3.05724144],\n",
       "       [3.05724144],\n",
       "       [3.05724144],\n",
       "       [3.05724144],\n",
       "       [3.05724144],\n",
       "       [3.05724144],\n",
       "       [3.05724144],\n",
       "       [2.74585581],\n",
       "       [2.74585581],\n",
       "       [2.74585581],\n",
       "       [2.94401026],\n",
       "       [2.94401026],\n",
       "       [2.94401026],\n",
       "       [2.94401026],\n",
       "       [2.94401026],\n",
       "       [2.94401026],\n",
       "       [2.94401026],\n",
       "       [2.94401026],\n",
       "       [2.94401026],\n",
       "       [2.94401026],\n",
       "       [2.94401026],\n",
       "       [2.94401026],\n",
       "       [2.94401026],\n",
       "       [2.94401026],\n",
       "       [2.94401026],\n",
       "       [2.94401026],\n",
       "       [2.94401026],\n",
       "       [2.94401026],\n",
       "       [2.94401026],\n",
       "       [2.94401026],\n",
       "       [2.94401026],\n",
       "       [2.94401026],\n",
       "       [2.94401026],\n",
       "       [2.94401026],\n",
       "       [2.32123876],\n",
       "       [2.32123876],\n",
       "       [2.32123876],\n",
       "       [2.32123876],\n",
       "       [2.32123876],\n",
       "       [2.44390583],\n",
       "       [2.44390583],\n",
       "       [2.44390583],\n",
       "       [2.44390583],\n",
       "       [2.53826499],\n",
       "       [2.53826499],\n",
       "       [2.53826499],\n",
       "       [2.53826499],\n",
       "       [2.53826499],\n",
       "       [2.52882934],\n",
       "       [2.52882934],\n",
       "       [2.52882934],\n",
       "       [2.52882934],\n",
       "       [2.52882934],\n",
       "       [2.52882934],\n",
       "       [2.52882934],\n",
       "       [2.51939344],\n",
       "       [2.51939344],\n",
       "       [2.51939344],\n",
       "       [2.51939344],\n",
       "       [2.51939344],\n",
       "       [2.51939344],\n",
       "       [2.51939344],\n",
       "       [2.51939344],\n",
       "       [2.51939344],\n",
       "       [2.49108553],\n",
       "       [2.59488082],\n",
       "       [2.59488082],\n",
       "       [2.59488082],\n",
       "       [2.59488082],\n",
       "       [2.59488082],\n",
       "       [2.59488082],\n",
       "       [2.59488082],\n",
       "       [2.59488082],\n",
       "       [2.59488082],\n",
       "       [2.59488082],\n",
       "       [2.59488082],\n",
       "       [2.59488082],\n",
       "       [2.59488082],\n",
       "       [2.59488082],\n",
       "       [2.62446547],\n",
       "       [2.62446547],\n",
       "       [2.62446547],\n",
       "       [2.62446547],\n",
       "       [2.62446547],\n",
       "       [2.48131275],\n",
       "       [2.48131275],\n",
       "       [2.57674813],\n",
       "       [2.74853134],\n",
       "       [2.74853134],\n",
       "       [2.74853134],\n",
       "       [2.74853134],\n",
       "       [2.74853134],\n",
       "       [2.74853134],\n",
       "       [2.74853134],\n",
       "       [2.74853134],\n",
       "       [2.74853134],\n",
       "       [2.74853134],\n",
       "       [2.74853134],\n",
       "       [2.74853134],\n",
       "       [2.74853134],\n",
       "       [2.74853134],\n",
       "       [2.74853134],\n",
       "       [2.74853134],\n",
       "       [2.74853134],\n",
       "       [2.74853134],\n",
       "       [2.74853134],\n",
       "       [2.74853134],\n",
       "       [2.74853134],\n",
       "       [2.76761842],\n",
       "       [2.76761842],\n",
       "       [2.76761842],\n",
       "       [2.76761842],\n",
       "       [2.76761842],\n",
       "       [2.76761842],\n",
       "       [2.76761842],\n",
       "       [2.76761842],\n",
       "       [2.76761842],\n",
       "       [2.76761842],\n",
       "       [2.76761842],\n",
       "       [2.76761842],\n",
       "       [2.76761842],\n",
       "       [2.76761842],\n",
       "       [2.76761842],\n",
       "       [2.76761842],\n",
       "       [2.76761842],\n",
       "       [2.76761842],\n",
       "       [2.76761842],\n",
       "       [2.76761842],\n",
       "       [2.76761842],\n",
       "       [2.50994349],\n",
       "       [2.50994349],\n",
       "       [2.32861686],\n",
       "       [2.49085641],\n",
       "       [2.49085641],\n",
       "       [2.49085641],\n",
       "       [2.50994349],\n",
       "       [2.45268226],\n",
       "       [2.45268226],\n",
       "       [2.45268226],\n",
       "       [2.45268226],\n",
       "       [2.50039983],\n",
       "       [2.50039983],\n",
       "       [2.53523517],\n",
       "       [2.53523517],\n",
       "       [2.53523517],\n",
       "       [2.53523517],\n",
       "       [2.53523517],\n",
       "       [2.53523517],\n",
       "       [2.53523517],\n",
       "       [2.53523517],\n",
       "       [2.53523517],\n",
       "       [2.77714705],\n",
       "       [2.74811769],\n",
       "       [2.74811769],\n",
       "       [2.74811769],\n",
       "       [2.74811769],\n",
       "       [2.74811769],\n",
       "       [2.75779414],\n",
       "       [2.75779414],\n",
       "       [2.75779414],\n",
       "       [2.75779414],\n",
       "       [2.75779414],\n",
       "       [2.66102934],\n",
       "       [2.66102934],\n",
       "       [2.66102934],\n",
       "       [2.58361769],\n",
       "       [2.52555871],\n",
       "       [2.52555871],\n",
       "       [2.49652934],\n",
       "       [2.64167643],\n",
       "       [2.64167643],\n",
       "       [2.42879415],\n",
       "       [2.42879415],\n",
       "       [2.42879415],\n",
       "       [2.46749997],\n",
       "       [2.46749997],\n",
       "       [2.46749997],\n",
       "       [2.56426477],\n",
       "       [2.56426477],\n",
       "       [2.56426477],\n",
       "       [2.56426477],\n",
       "       [2.56426477],\n",
       "       [2.56426477],\n",
       "       [2.56426477],\n",
       "       [2.5062058 ],\n",
       "       [2.5062058 ],\n",
       "       [2.5062058 ],\n",
       "       [2.5062058 ],\n",
       "       [2.5062058 ],\n",
       "       [2.5062058 ],\n",
       "       [2.5062058 ],\n",
       "       [2.5062058 ],\n",
       "       [2.5062058 ],\n",
       "       [2.5062058 ],\n",
       "       [2.55458832],\n",
       "       [2.55458832],\n",
       "       [2.55458832],\n",
       "       [2.55458832],\n",
       "       [2.55458832],\n",
       "       [2.48685288],\n",
       "       [2.48685288],\n",
       "       [2.48685288],\n",
       "       [2.48685288],\n",
       "       [2.48685288],\n",
       "       [2.48685288],\n",
       "       [2.48685288],\n",
       "       [2.48685288],\n",
       "       [2.48685288],\n",
       "       [2.48685288],\n",
       "       [2.46749997],\n",
       "       [2.46749997],\n",
       "       [2.46749997],\n",
       "       [2.46749997],\n",
       "       [2.46749997],\n",
       "       [2.46749997],\n",
       "       [2.54491186],\n",
       "       [2.54491186],\n",
       "       [2.54491186],\n",
       "       [2.54491186],\n",
       "       [2.54491186],\n",
       "       [2.54491186],\n",
       "       [2.54491186],\n",
       "       [2.54491186],\n",
       "       [2.54491186],\n",
       "       [2.54491186],\n",
       "       [2.54491186],\n",
       "       [2.54491186],\n",
       "       [2.54491186],\n",
       "       [2.54491186],\n",
       "       [2.54491186],\n",
       "       [2.41911769],\n",
       "       [2.41911769],\n",
       "       [2.41911769],\n",
       "       [2.41911769],\n",
       "       [2.41911769],\n",
       "       [2.41911769],\n",
       "       [2.41911769],\n",
       "       [2.41911769],\n",
       "       [2.41911769],\n",
       "       [2.41911769],\n",
       "       [2.41911769],\n",
       "       [2.41911769],\n",
       "       [2.41911769],\n",
       "       [2.41911769],\n",
       "       [2.41911769],\n",
       "       [2.41911769],\n",
       "       [2.41911769],\n",
       "       [2.39976478],\n",
       "       [2.39976478],\n",
       "       [2.39976478],\n",
       "       [2.39976478],\n",
       "       [2.39976478],\n",
       "       [2.39976478],\n",
       "       [2.39976478],\n",
       "       [2.39976478],\n",
       "       [2.39976478],\n",
       "       [2.39976478],\n",
       "       [2.39976478],\n",
       "       [2.39976478],\n",
       "       [2.39976478],\n",
       "       [2.39976478],\n",
       "       [2.39976478],\n",
       "       [2.39976478],\n",
       "       [2.39976478],\n",
       "       [2.39976478],\n",
       "       [2.39976478],\n",
       "       [2.33202958],\n",
       "       [2.33202958],\n",
       "       [2.33202958],\n",
       "       [2.33202958],\n",
       "       [2.33202958],\n",
       "       [2.33202958],\n",
       "       [2.33202958],\n",
       "       [2.33202958],\n",
       "       [2.21591187],\n",
       "       [2.21591187],\n",
       "       [2.21591187],\n",
       "       [2.21591187],\n",
       "       [2.21591187],\n",
       "       [2.21591187],\n",
       "       [2.21591187],\n",
       "       [2.21591187],\n",
       "       [2.21591187],\n",
       "       [2.02238226],\n",
       "       [2.02238226],\n",
       "       [2.02238226],\n",
       "       [2.02238226],\n",
       "       [1.87723541],\n",
       "       [1.87723541],\n",
       "       [1.87723541],\n",
       "       [1.87723541],\n",
       "       [1.87723541],\n",
       "       [1.87723541],\n",
       "       [1.97399998],\n",
       "       [1.97399998],\n",
       "       [1.97399998],\n",
       "       [1.97399998],\n",
       "       [1.97399998],\n",
       "       [1.97399998],\n",
       "       [2.03999996],\n",
       "       [2.03999996],\n",
       "       [2.03999996],\n",
       "       [2.03999996],\n",
       "       [2.03999996],\n",
       "       [2.03999996],\n",
       "       [2.03999996],\n",
       "       [2.03999996],\n",
       "       [2.03999996],\n",
       "       [2.03999996],\n",
       "       [2.03999996],\n",
       "       [2.03999996],\n",
       "       [2.03999996],\n",
       "       [2.03999996],\n",
       "       [2.03999996],\n",
       "       [2.03999996],\n",
       "       [2.03999996],\n",
       "       [1.99000001],\n",
       "       [1.99000001],\n",
       "       [1.99000001],\n",
       "       [1.99000001],\n",
       "       [1.99000001],\n",
       "       [1.99000001],\n",
       "       [1.99000001],\n",
       "       [2.04999995],\n",
       "       [2.04999995],\n",
       "       [2.04999995],\n",
       "       [2.04999995],\n",
       "       [2.11999989],\n",
       "       [2.13000011],\n",
       "       [2.13000011],\n",
       "       [2.13000011],\n",
       "       [2.13000011],\n",
       "       [2.13000011],\n",
       "       [2.13000011],\n",
       "       [2.13000011],\n",
       "       [2.13000011],\n",
       "       [2.13000011],\n",
       "       [2.13000011],\n",
       "       [2.13000011],\n",
       "       [2.13000011],\n",
       "       [2.13000011],\n",
       "       [2.13000011],\n",
       "       [2.13000011],\n",
       "       [2.13000011],\n",
       "       [2.13000011],\n",
       "       [2.13000011],\n",
       "       [2.13000011],\n",
       "       [2.13000011],\n",
       "       [2.13000011],\n",
       "       [2.13000011],\n",
       "       [2.13000011],\n",
       "       [2.13000011],\n",
       "       [2.13000011],\n",
       "       [2.13000011],\n",
       "       [2.13000011],\n",
       "       [2.13000011],\n",
       "       [2.13000011],\n",
       "       [1.63999999],\n",
       "       [1.63999999],\n",
       "       [1.83000004],\n",
       "       [1.83000004],\n",
       "       [1.88999999],\n",
       "       [1.97000003],\n",
       "       [1.97000003],\n",
       "       [1.97000003],\n",
       "       [1.97000003],\n",
       "       [1.97000003],\n",
       "       [1.97000003],\n",
       "       [1.97000003],\n",
       "       [1.97000003],\n",
       "       [1.97000003],\n",
       "       [1.99000001],\n",
       "       [1.99000001],\n",
       "       [1.99000001],\n",
       "       [1.99000001],\n",
       "       [1.99000001],\n",
       "       [1.99000001],\n",
       "       [1.99000001],\n",
       "       [1.99000001],\n",
       "       [1.99000001],\n",
       "       [1.99000001],\n",
       "       [1.99000001],\n",
       "       [1.87      ],\n",
       "       [1.87      ],\n",
       "       [1.87      ],\n",
       "       [1.87      ],\n",
       "       [1.87      ],\n",
       "       [1.87      ],\n",
       "       [1.87      ],\n",
       "       [1.87      ],\n",
       "       [1.87      ],\n",
       "       [1.87      ],\n",
       "       [1.87      ],\n",
       "       [1.87      ],\n",
       "       [1.87      ],\n",
       "       [1.87      ],\n",
       "       [1.87      ],\n",
       "       [1.87      ],\n",
       "       [1.87      ],\n",
       "       [1.87      ],\n",
       "       [1.87      ],\n",
       "       [1.87      ],\n",
       "       [2.21000004],\n",
       "       [2.21000004],\n",
       "       [2.21000004],\n",
       "       [2.21000004],\n",
       "       [2.21000004],\n",
       "       [2.21000004],\n",
       "       [2.11999989],\n",
       "       [2.11999989],\n",
       "       [2.11999989],\n",
       "       [2.11999989],\n",
       "       [2.11999989],\n",
       "       [2.11999989],\n",
       "       [2.11999989],\n",
       "       [2.11999989],\n",
       "       [2.03999996],\n",
       "       [2.03999996],\n",
       "       [2.03999996],\n",
       "       [2.03999996],\n",
       "       [2.03999996],\n",
       "       [2.03999996],\n",
       "       [2.03999996],\n",
       "       [2.03999996],\n",
       "       [2.03999996],\n",
       "       [2.03999996],\n",
       "       [1.86000001],\n",
       "       [1.86000001],\n",
       "       [1.86000001],\n",
       "       [1.86000001],\n",
       "       [1.86000001],\n",
       "       [1.79999995],\n",
       "       [1.79999995]])"
      ]
     },
     "execution_count": 446,
     "metadata": {},
     "output_type": "execute_result"
    }
   ],
   "source": [
    "import numpy as np\n",
    "import matplotlib.pyplot as plt\n",
    "\n",
    "#Getting the values of Adj Close\n",
    "cls = UR_stocks[['Adj Close']]\n",
    "adj_cls = cls.values\n",
    "adj_cls"
   ]
  },
  {
   "cell_type": "code",
   "execution_count": 447,
   "id": "624459a5",
   "metadata": {},
   "outputs": [],
   "source": [
    "#ds\n",
    "#plt.plot(ds)"
   ]
  },
  {
   "cell_type": "code",
   "execution_count": 448,
   "id": "4acd58d6",
   "metadata": {},
   "outputs": [],
   "source": [
    "#Preparing the Data through Transformation\n",
    "#Use the MinMaxScaler to normalize data between 0 and 1\n",
    "from sklearn.preprocessing import MinMaxScaler\n",
    "\n",
    "normalizer = MinMaxScaler(feature_range=(0,1))\n",
    "ac_scaled = normalizer.fit_transform(np.array(adj_cls).reshape(-1,1))\n",
    "#ds_scaled = normalizer.fit_transform(np.array(adj_cls).reshape(-1,1))"
   ]
  },
  {
   "cell_type": "code",
   "execution_count": 449,
   "id": "11764845",
   "metadata": {},
   "outputs": [
    {
     "data": {
      "text/plain": [
       "(352, 151)"
      ]
     },
     "execution_count": 449,
     "metadata": {},
     "output_type": "execute_result"
    }
   ],
   "source": [
    "#Identify the sizes of training and testing data\n",
    "train_size = int(len(ac_scaled)*0.70)\n",
    "test_size = len(ac_scaled) - train_size\n",
    "train_size, test_size"
   ]
  },
  {
   "cell_type": "code",
   "execution_count": 452,
   "id": "1797e040",
   "metadata": {},
   "outputs": [],
   "source": [
    "#Split the training and testing data\n",
    "ac_train, ac_test = ac_scaled[0:train_size,:], ac_scaled[train_size:len(ac_scaled),:1]"
   ]
  },
  {
   "cell_type": "code",
   "execution_count": 12,
   "id": "53a9b2f0",
   "metadata": {},
   "outputs": [],
   "source": []
  },
  {
   "cell_type": "code",
   "execution_count": 453,
   "id": "6009fc0a",
   "metadata": {},
   "outputs": [],
   "source": [
    "#create a time series for GRU model \n",
    "#X[100,120,140,160,180] : Y[200]\n",
    "def create_ac(dataset,step):\n",
    "    Xtrain, Ytrain = [], []\n",
    "    for i in range(len(dataset)-step-1):\n",
    "        a = dataset[i:(i+step), 0]\n",
    "        Xtrain.append(a)\n",
    "        Ytrain.append(dataset[i + step, 0])\n",
    "    return np.array(Xtrain), np.array(Ytrain)"
   ]
  },
  {
   "cell_type": "code",
   "execution_count": 16,
   "id": "3eac67ff",
   "metadata": {},
   "outputs": [],
   "source": [
    "#len(ac_train),len(ac_test)"
   ]
  },
  {
   "cell_type": "code",
   "execution_count": 459,
   "id": "ac945dd8",
   "metadata": {},
   "outputs": [],
   "source": [
    "#100 days price was chosen as one record for training\n",
    "time_stamp = 100\n",
    "X_train, y_train = create_ac(ac_train,time_stamp)\n",
    "X_test, y_test = create_ac(ac_test,time_stamp)"
   ]
  },
  {
   "cell_type": "code",
   "execution_count": 460,
   "id": "c58d0ce0",
   "metadata": {},
   "outputs": [
    {
     "data": {
      "text/plain": [
       "((251, 100), (251,))"
      ]
     },
     "execution_count": 460,
     "metadata": {},
     "output_type": "execute_result"
    }
   ],
   "source": [
    "X_train.shape, y_train.shape"
   ]
  },
  {
   "cell_type": "code",
   "execution_count": 461,
   "id": "b2f47852",
   "metadata": {},
   "outputs": [
    {
     "data": {
      "text/plain": [
       "((50, 100), (50,))"
      ]
     },
     "execution_count": 461,
     "metadata": {},
     "output_type": "execute_result"
    }
   ],
   "source": [
    "X_test.shape, y_test.shape"
   ]
  },
  {
   "cell_type": "code",
   "execution_count": 462,
   "id": "4c7850f6",
   "metadata": {},
   "outputs": [],
   "source": [
    "#Reshape the data to fit into the GRU model\n",
    "X_train = X_train.reshape(X_train.shape[0],X_train.shape[1] , 1)\n",
    "X_test = X_test.reshape(X_test.shape[0],X_test.shape[1] , 1)"
   ]
  },
  {
   "cell_type": "code",
   "execution_count": 504,
   "id": "4a7eaf31",
   "metadata": {},
   "outputs": [
    {
     "name": "stdout",
     "output_type": "stream",
     "text": [
      "Model: \"sequential_28\"\n",
      "_________________________________________________________________\n",
      " Layer (type)                Output Shape              Param #   \n",
      "=================================================================\n",
      " gru_56 (GRU)                (None, 100, 70)           15330     \n",
      "                                                                 \n",
      " dropout_56 (Dropout)        (None, 100, 70)           0         \n",
      "                                                                 \n",
      " gru_57 (GRU)                (None, 70)                29820     \n",
      "                                                                 \n",
      " dropout_57 (Dropout)        (None, 70)                0         \n",
      "                                                                 \n",
      " dense_28 (Dense)            (None, 1)                 71        \n",
      "                                                                 \n",
      "=================================================================\n",
      "Total params: 45,221\n",
      "Trainable params: 45,221\n",
      "Non-trainable params: 0\n",
      "_________________________________________________________________\n"
     ]
    }
   ],
   "source": [
    "#Choosing a model\n",
    "#Gated Current Unit (GRU) will be used used\n",
    "\n",
    "from keras.models import Sequential\n",
    "from keras.layers.core import Dense, Dropout\n",
    "from keras.layers import GRU\n",
    "\n",
    "model = Sequential()\n",
    "\n",
    "# Input layer\n",
    "model.add(GRU (70, return_sequences=True, input_shape = [X_train.shape[1], X_train.shape[2]]))\n",
    "model.add(Dropout(0.2)) \n",
    "    \n",
    "# Hidden layer\n",
    "model.add(GRU(70)) \n",
    "model.add(Dropout(0.2))\n",
    "model.add(Dense(1, activation='sigmoid')) \n",
    "\n",
    "model.summary()"
   ]
  },
  {
   "cell_type": "code",
   "execution_count": 505,
   "id": "5dd989cd",
   "metadata": {},
   "outputs": [],
   "source": [
    "#Compile the model\n",
    "model.compile(optimizer='adam',loss='mse')"
   ]
  },
  {
   "cell_type": "code",
   "execution_count": 506,
   "id": "c4209bc9",
   "metadata": {},
   "outputs": [
    {
     "name": "stdout",
     "output_type": "stream",
     "text": [
      "Epoch 1/70\n",
      "4/4 [==============================] - 35s 1s/step - loss: 0.0180 - val_loss: 0.1116\n",
      "Epoch 2/70\n",
      "4/4 [==============================] - 1s 335ms/step - loss: 0.0093 - val_loss: 0.1389\n",
      "Epoch 3/70\n",
      "4/4 [==============================] - 1s 323ms/step - loss: 0.0108 - val_loss: 0.1287\n",
      "Epoch 4/70\n",
      "4/4 [==============================] - 1s 336ms/step - loss: 0.0083 - val_loss: 0.1117\n",
      "Epoch 5/70\n",
      "4/4 [==============================] - 1s 332ms/step - loss: 0.0087 - val_loss: 0.1041\n",
      "Epoch 6/70\n",
      "4/4 [==============================] - 1s 336ms/step - loss: 0.0091 - val_loss: 0.1056\n",
      "Epoch 7/70\n",
      "4/4 [==============================] - 1s 342ms/step - loss: 0.0084 - val_loss: 0.1105\n",
      "Epoch 8/70\n",
      "4/4 [==============================] - 1s 345ms/step - loss: 0.0081 - val_loss: 0.1128\n",
      "Epoch 9/70\n",
      "4/4 [==============================] - 1s 342ms/step - loss: 0.0081 - val_loss: 0.1091\n",
      "Epoch 10/70\n",
      "4/4 [==============================] - 1s 337ms/step - loss: 0.0079 - val_loss: 0.1029\n",
      "Epoch 11/70\n",
      "4/4 [==============================] - 1s 339ms/step - loss: 0.0077 - val_loss: 0.0976\n",
      "Epoch 12/70\n",
      "4/4 [==============================] - 1s 336ms/step - loss: 0.0076 - val_loss: 0.0949\n",
      "Epoch 13/70\n",
      "4/4 [==============================] - 1s 347ms/step - loss: 0.0074 - val_loss: 0.0935\n",
      "Epoch 14/70\n",
      "4/4 [==============================] - 1s 353ms/step - loss: 0.0072 - val_loss: 0.0904\n",
      "Epoch 15/70\n",
      "4/4 [==============================] - 1s 338ms/step - loss: 0.0072 - val_loss: 0.0828\n",
      "Epoch 16/70\n",
      "4/4 [==============================] - 1s 347ms/step - loss: 0.0066 - val_loss: 0.0763\n",
      "Epoch 17/70\n",
      "4/4 [==============================] - 1s 339ms/step - loss: 0.0063 - val_loss: 0.0701\n",
      "Epoch 18/70\n",
      "4/4 [==============================] - 1s 337ms/step - loss: 0.0058 - val_loss: 0.0626\n",
      "Epoch 19/70\n",
      "4/4 [==============================] - 1s 342ms/step - loss: 0.0056 - val_loss: 0.0509\n",
      "Epoch 20/70\n",
      "4/4 [==============================] - 2s 484ms/step - loss: 0.0054 - val_loss: 0.0399\n",
      "Epoch 21/70\n",
      "4/4 [==============================] - 2s 440ms/step - loss: 0.0044 - val_loss: 0.0283\n",
      "Epoch 22/70\n",
      "4/4 [==============================] - 2s 365ms/step - loss: 0.0041 - val_loss: 0.0181\n",
      "Epoch 23/70\n",
      "4/4 [==============================] - 1s 341ms/step - loss: 0.0039 - val_loss: 0.0108\n",
      "Epoch 24/70\n",
      "4/4 [==============================] - 2s 435ms/step - loss: 0.0035 - val_loss: 0.0068\n",
      "Epoch 25/70\n",
      "4/4 [==============================] - 2s 362ms/step - loss: 0.0038 - val_loss: 0.0056\n",
      "Epoch 26/70\n",
      "4/4 [==============================] - 1s 346ms/step - loss: 0.0037 - val_loss: 0.0079\n",
      "Epoch 27/70\n",
      "4/4 [==============================] - 1s 370ms/step - loss: 0.0039 - val_loss: 0.0083\n",
      "Epoch 28/70\n",
      "4/4 [==============================] - 1s 363ms/step - loss: 0.0036 - val_loss: 0.0109\n",
      "Epoch 29/70\n",
      "4/4 [==============================] - 2s 418ms/step - loss: 0.0034 - val_loss: 0.0098\n",
      "Epoch 30/70\n",
      "4/4 [==============================] - 1s 347ms/step - loss: 0.0036 - val_loss: 0.0093\n",
      "Epoch 31/70\n",
      "4/4 [==============================] - 1s 366ms/step - loss: 0.0034 - val_loss: 0.0089\n",
      "Epoch 32/70\n",
      "4/4 [==============================] - 2s 557ms/step - loss: 0.0033 - val_loss: 0.0077\n",
      "Epoch 33/70\n",
      "4/4 [==============================] - 2s 411ms/step - loss: 0.0031 - val_loss: 0.0074\n",
      "Epoch 34/70\n",
      "4/4 [==============================] - 1s 352ms/step - loss: 0.0032 - val_loss: 0.0069\n",
      "Epoch 35/70\n",
      "4/4 [==============================] - 1s 361ms/step - loss: 0.0030 - val_loss: 0.0066\n",
      "Epoch 36/70\n",
      "4/4 [==============================] - 1s 346ms/step - loss: 0.0031 - val_loss: 0.0065\n",
      "Epoch 37/70\n",
      "4/4 [==============================] - 1s 358ms/step - loss: 0.0031 - val_loss: 0.0063\n",
      "Epoch 38/70\n",
      "4/4 [==============================] - 1s 351ms/step - loss: 0.0029 - val_loss: 0.0060\n",
      "Epoch 39/70\n",
      "4/4 [==============================] - 1s 373ms/step - loss: 0.0027 - val_loss: 0.0061\n",
      "Epoch 40/70\n",
      "4/4 [==============================] - 1s 363ms/step - loss: 0.0028 - val_loss: 0.0058\n",
      "Epoch 41/70\n",
      "4/4 [==============================] - 1s 360ms/step - loss: 0.0025 - val_loss: 0.0061\n",
      "Epoch 42/70\n",
      "4/4 [==============================] - 1s 368ms/step - loss: 0.0032 - val_loss: 0.0063\n",
      "Epoch 43/70\n",
      "4/4 [==============================] - 1s 358ms/step - loss: 0.0027 - val_loss: 0.0056\n",
      "Epoch 44/70\n",
      "4/4 [==============================] - 1s 368ms/step - loss: 0.0028 - val_loss: 0.0063\n",
      "Epoch 45/70\n",
      "4/4 [==============================] - 1s 360ms/step - loss: 0.0030 - val_loss: 0.0056\n",
      "Epoch 46/70\n",
      "4/4 [==============================] - 1s 369ms/step - loss: 0.0027 - val_loss: 0.0059\n",
      "Epoch 47/70\n",
      "4/4 [==============================] - 1s 377ms/step - loss: 0.0026 - val_loss: 0.0057\n",
      "Epoch 48/70\n",
      "4/4 [==============================] - 1s 360ms/step - loss: 0.0025 - val_loss: 0.0055\n",
      "Epoch 49/70\n",
      "4/4 [==============================] - 1s 367ms/step - loss: 0.0028 - val_loss: 0.0055\n",
      "Epoch 50/70\n",
      "4/4 [==============================] - 1s 355ms/step - loss: 0.0026 - val_loss: 0.0052\n",
      "Epoch 51/70\n",
      "4/4 [==============================] - 1s 358ms/step - loss: 0.0023 - val_loss: 0.0048\n",
      "Epoch 52/70\n",
      "4/4 [==============================] - 1s 356ms/step - loss: 0.0025 - val_loss: 0.0051\n",
      "Epoch 53/70\n",
      "4/4 [==============================] - 1s 371ms/step - loss: 0.0026 - val_loss: 0.0047\n",
      "Epoch 54/70\n",
      "4/4 [==============================] - 1s 359ms/step - loss: 0.0028 - val_loss: 0.0049\n",
      "Epoch 55/70\n",
      "4/4 [==============================] - 1s 369ms/step - loss: 0.0026 - val_loss: 0.0050\n",
      "Epoch 56/70\n",
      "4/4 [==============================] - 1s 351ms/step - loss: 0.0028 - val_loss: 0.0047\n",
      "Epoch 57/70\n",
      "4/4 [==============================] - 1s 358ms/step - loss: 0.0026 - val_loss: 0.0051\n",
      "Epoch 58/70\n",
      "4/4 [==============================] - 1s 351ms/step - loss: 0.0026 - val_loss: 0.0044\n",
      "Epoch 59/70\n",
      "4/4 [==============================] - 1s 362ms/step - loss: 0.0026 - val_loss: 0.0048\n",
      "Epoch 60/70\n",
      "4/4 [==============================] - 1s 355ms/step - loss: 0.0026 - val_loss: 0.0046\n",
      "Epoch 61/70\n",
      "4/4 [==============================] - 1s 356ms/step - loss: 0.0023 - val_loss: 0.0047\n",
      "Epoch 62/70\n",
      "4/4 [==============================] - 1s 364ms/step - loss: 0.0026 - val_loss: 0.0048\n",
      "Epoch 63/70\n",
      "4/4 [==============================] - 2s 460ms/step - loss: 0.0024 - val_loss: 0.0046\n",
      "Epoch 64/70\n",
      "4/4 [==============================] - 2s 412ms/step - loss: 0.0024 - val_loss: 0.0049\n",
      "Epoch 65/70\n",
      "4/4 [==============================] - 1s 356ms/step - loss: 0.0025 - val_loss: 0.0044\n",
      "Epoch 66/70\n",
      "4/4 [==============================] - 1s 366ms/step - loss: 0.0022 - val_loss: 0.0046\n",
      "Epoch 67/70\n",
      "4/4 [==============================] - 1s 368ms/step - loss: 0.0022 - val_loss: 0.0045\n",
      "Epoch 68/70\n",
      "4/4 [==============================] - 1s 371ms/step - loss: 0.0021 - val_loss: 0.0043\n",
      "Epoch 69/70\n",
      "4/4 [==============================] - 1s 365ms/step - loss: 0.0023 - val_loss: 0.0044\n",
      "Epoch 70/70\n",
      "4/4 [==============================] - 1s 374ms/step - loss: 0.0022 - val_loss: 0.0043\n"
     ]
    }
   ],
   "source": [
    "#Fit the model\n",
    "history = model.fit(X_train,y_train,validation_data=(X_test,y_test),epochs=70,batch_size=64)"
   ]
  },
  {
   "cell_type": "code",
   "execution_count": 507,
   "id": "898071e2",
   "metadata": {},
   "outputs": [
    {
     "data": {
      "image/png": "[encoded data removed]",
      "text/plain": [
       "<Figure size 432x288 with 1 Axes>"
      ]
     },
     "metadata": {
      "needs_background": "light"
     },
     "output_type": "display_data"
    }
   ],
   "source": [
    "#Evaluation of the model\n",
    "#Plotting the loss in training and validation\n",
    "plt.plot(history.history['loss'])\n",
    "plt.plot(history.history['val_loss'])\n",
    "plt.title('model loss')\n",
    "plt.ylabel('loss')\n",
    "plt.xlabel('epoch')\n",
    "plt.legend(['train', 'val'], loc='upper left')\n",
    "plt.show()"
   ]
  },
  {
   "cell_type": "code",
   "execution_count": 512,
   "id": "32eaf7fb",
   "metadata": {},
   "outputs": [
    {
     "name": "stdout",
     "output_type": "stream",
     "text": [
      "8/8 [==============================] - 0s 47ms/step\n",
      "2/2 [==============================] - 0s 43ms/step\n"
     ]
    }
   ],
   "source": [
    "#Testing the model\n",
    "#Prediction of future Adj Close value for URC using train and test datas\n",
    "train_predict = model.predict(X_train)\n",
    "test_predict = model.predict(X_test)"
   ]
  },
  {
   "cell_type": "code",
   "execution_count": 513,
   "id": "f6c8eb7f",
   "metadata": {},
   "outputs": [],
   "source": [
    "#Get the Inverse transform of the predicted train and test data to get the actual predicted values\n",
    "train_predict = normalizer.inverse_transform(train_predict)\n",
    "test_predict = normalizer.inverse_transform(test_predict)"
   ]
  },
  {
   "cell_type": "code",
   "execution_count": 514,
   "id": "066730d2",
   "metadata": {},
   "outputs": [
    {
     "data": {
      "text/plain": [
       "[<matplotlib.lines.Line2D at 0x24ff3567220>]"
      ]
     },
     "execution_count": 514,
     "metadata": {},
     "output_type": "execute_result"
    },
    {
     "data": {
      "image/png": "[encoded data removed]",
      "text/plain": [
       "<Figure size 432x288 with 1 Axes>"
      ]
     },
     "metadata": {
      "needs_background": "light"
     },
     "output_type": "display_data"
    }
   ],
   "source": [
    "#Compare the plot of train, test and the current values\n",
    "plt.plot(normalizer.inverse_transform(ac_scaled))\n",
    "plt.plot(train_predict)\n",
    "plt.plot(test_predict)"
   ]
  },
  {
   "cell_type": "code",
   "execution_count": 515,
   "id": "e503a6e5",
   "metadata": {},
   "outputs": [],
   "source": [
    "#Combine the predicted train and test datas\n",
    "test = np.vstack((train_predict,test_predict))"
   ]
  },
  {
   "cell_type": "code",
   "execution_count": 516,
   "id": "e41c540c",
   "metadata": {},
   "outputs": [
    {
     "data": {
      "text/plain": [
       "[<matplotlib.lines.Line2D at 0x24ffa8890d0>]"
      ]
     },
     "execution_count": 516,
     "metadata": {},
     "output_type": "execute_result"
    },
    {
     "data": {
      "image/png": "[encoded data removed]",
      "text/plain": [
       "<Figure size 432x288 with 1 Axes>"
      ]
     },
     "metadata": {
      "needs_background": "light"
     },
     "output_type": "display_data"
    }
   ],
   "source": [
    "#Data visualization of the combined datas\n",
    "plt.plot(normalizer.inverse_transform(ac_scaled))\n",
    "plt.plot(test)"
   ]
  },
  {
   "cell_type": "code",
   "execution_count": 517,
   "id": "8dfb2915",
   "metadata": {},
   "outputs": [
    {
     "data": {
      "text/plain": [
       "151"
      ]
     },
     "execution_count": 517,
     "metadata": {},
     "output_type": "execute_result"
    }
   ],
   "source": [
    "len(ds_test)"
   ]
  },
  {
   "cell_type": "code",
   "execution_count": 518,
   "id": "e8bac905",
   "metadata": {},
   "outputs": [
    {
     "data": {
      "text/plain": [
       "(1, 100)"
      ]
     },
     "execution_count": 518,
     "metadata": {},
     "output_type": "execute_result"
    }
   ],
   "source": [
    "#Get the data of the last 100 days\n",
    "fut_inp = ds_test[51:]\n",
    "fut_inp = fut_inp.reshape(1,-1)\n",
    "tmp_inp = list(fut_inp)\n",
    "fut_inp.shape"
   ]
  },
  {
   "cell_type": "code",
   "execution_count": 519,
   "id": "bd2b36cf",
   "metadata": {},
   "outputs": [],
   "source": [
    "#List the given data\n",
    "tmp_inp = tmp_inp[0].tolist()"
   ]
  },
  {
   "cell_type": "code",
   "execution_count": 520,
   "id": "3f82bd69",
   "metadata": {},
   "outputs": [
    {
     "name": "stdout",
     "output_type": "stream",
     "text": [
      "[[0.18172307312488556], [0.18086867034435272], [0.18328233063220978], [0.18693822622299194], [0.1909136325120926], [0.19482703506946564], [0.19854852557182312], [0.20205114781856537], [0.20534317195415497], [0.2084406167268753]]\n"
     ]
    }
   ],
   "source": [
    "#Predict the price in the next 10 days\n",
    "lst_output=[]\n",
    "n_steps=100\n",
    "i=0\n",
    "while(i<10):\n",
    "    \n",
    "    if(len(tmp_inp)>100):\n",
    "        fut_inp = np.array(tmp_inp[1:])\n",
    "        fut_inp=fut_inp.reshape(1,-1)\n",
    "        fut_inp = fut_inp.reshape((1, n_steps, 1))\n",
    "        yhat = model.predict(fut_inp, verbose=0)\n",
    "        tmp_inp.extend(yhat[0].tolist())\n",
    "        tmp_inp = tmp_inp[1:]\n",
    "        lst_output.extend(yhat.tolist())\n",
    "        i=i+1\n",
    "    else:\n",
    "        fut_inp = fut_inp.reshape((1, n_steps,1))\n",
    "        yhat = model.predict(fut_inp, verbose=0)\n",
    "        tmp_inp.extend(yhat[0].tolist())\n",
    "        lst_output.extend(yhat.tolist())\n",
    "        i=i+1\n",
    "    \n",
    "\n",
    "print(lst_output)"
   ]
  },
  {
   "cell_type": "code",
   "execution_count": 521,
   "id": "63f02688",
   "metadata": {},
   "outputs": [],
   "source": [
    "#Get the inverse transform of the output\n",
    "output=normalizer.inverse_transform(lst_output)"
   ]
  },
  {
   "cell_type": "code",
   "execution_count": 526,
   "id": "f77a1c7b",
   "metadata": {},
   "outputs": [
    {
     "data": {
      "text/plain": [
       "(100, 10)"
      ]
     },
     "execution_count": 526,
     "metadata": {},
     "output_type": "execute_result"
    }
   ],
   "source": [
    "len(ac_scaled[403:]), len(lst_output)"
   ]
  },
  {
   "cell_type": "code",
   "execution_count": 529,
   "id": "d931b364",
   "metadata": {},
   "outputs": [
    {
     "data": {
      "text/plain": [
       "[<matplotlib.lines.Line2D at 0x24fe1bb4d00>]"
      ]
     },
     "execution_count": 529,
     "metadata": {},
     "output_type": "execute_result"
    },
    {
     "data": {
      "image/png": "[encoded data removed]",
      "text/plain": [
       "<Figure size 432x288 with 1 Axes>"
      ]
     },
     "metadata": {
      "needs_background": "light"
     },
     "output_type": "display_data"
    }
   ],
   "source": [
    "plot_new=np.arange(1,101)\n",
    "plot_pred=np.arange(101,111)\n",
    "plt.plot(plot_new, normalizer.inverse_transform(ac_scaled[403:]))\n",
    "plt.plot(plot_pred, normalizer.inverse_transform(lst_output))"
   ]
  },
  {
   "cell_type": "code",
   "execution_count": 532,
   "id": "8300c1d7",
   "metadata": {},
   "outputs": [
    {
     "data": {
      "text/plain": [
       "<matplotlib.legend.Legend at 0x24f86a637c0>"
      ]
     },
     "execution_count": 532,
     "metadata": {},
     "output_type": "execute_result"
    },
    {
     "data": {
      "image/png": "[encoded data removed]",
      "text/plain": [
       "<Figure size 432x288 with 1 Axes>"
      ]
     },
     "metadata": {
      "needs_background": "light"
     },
     "output_type": "display_data"
    }
   ],
   "source": [
    "#Plot the final graph for the prediction after 10 days\n",
    "\n",
    "ac_new = ac_scaled.tolist()\n",
    "ac_new.extend(lst_output)\n",
    "final_graph = normalizer.inverse_transform(ac_new).tolist()\n",
    "\n",
    "plt.plot(final_graph,)\n",
    "plt.ylabel(\"Price\")\n",
    "plt.xlabel(\"Time\")\n",
    "plt.title(\"{0} prediction of Adj Close\".format(UR_corp))\n",
    "plt.axhline(y=final_graph[len(final_graph)-1], color = 'red', linestyle = ':', label = 'NEXT 10D: {0}'.format(round(float(*final_graph[len(final_graph)-1]),2)))\n",
    "plt.legend()"
   ]
  },
  {
   "cell_type": "code",
   "execution_count": null,
   "id": "ce5e65bd",
   "metadata": {},
   "outputs": [],
   "source": []
  },
  {
   "cell_type": "code",
   "execution_count": 533,
   "id": "a0aa5183",
   "metadata": {},
   "outputs": [
    {
     "data": {
      "text/plain": [
       "array([[1.89754546],\n",
       "       [1.89633456],\n",
       "       [1.8997553 ],\n",
       "       [1.90493659],\n",
       "       [1.9105707 ],\n",
       "       [1.91611694],\n",
       "       [1.92139119],\n",
       "       [1.92635525],\n",
       "       [1.93102084],\n",
       "       [1.93541067]])"
      ]
     },
     "execution_count": 533,
     "metadata": {},
     "output_type": "execute_result"
    }
   ],
   "source": [
    "output"
   ]
  },
  {
   "cell_type": "code",
   "execution_count": 523,
   "id": "56c54641",
   "metadata": {},
   "outputs": [
    {
     "name": "stdout",
     "output_type": "stream",
     "text": [
      "2/2 [==============================] - 0s 40ms/step - loss: 0.0043\n",
      "Score: 0.004266451112926006\n"
     ]
    }
   ],
   "source": [
    "score = model.evaluate(X_test, y_test)\n",
    "print('Score: {}'.format(score))"
   ]
  },
  {
   "cell_type": "code",
   "execution_count": 525,
   "id": "c193ad85",
   "metadata": {},
   "outputs": [
    {
     "name": "stdout",
     "output_type": "stream",
     "text": [
      "Predicted Stock prices for URC:\n",
      "\n",
      "    Adj_Close        Date\n",
      "0   1.897545  10-11-2022\n",
      "1   1.896335  10-12-2022\n",
      "2   1.899755  10-13-2022\n",
      "3   1.904937  10-14-2022\n",
      "4   1.910571  10-15-2022\n",
      "5   1.916117  10-16-2022\n",
      "6   1.921391  10-17-2022\n",
      "7   1.926355  10-18-2022\n",
      "8   1.931021  10-19-2022\n",
      "9   1.935411  10-20-2022 \n",
      "\n"
     ]
    }
   ],
   "source": [
    "#Compiled predictions with dates\n",
    "import pandas as pd\n",
    "\n",
    "data = {'Adj_Close': output}\n",
    "final = pd.DataFrame(data=output)\n",
    "final.columns = [\"Adj_Close\"]\n",
    "Date = [\"10-11-2022\",\"10-12-2022\",\"10-13-2022\",\"10-14-2022\",\"10-15-2022\",\"10-16-2022\",\n",
    "        \"10-17-2022\",\"10-18-2022\",\"10-19-2022\",\"10-20-2022\"]\n",
    "\n",
    "final.insert(loc=1,column=\"Date\", value=Date)\n",
    "print(\"Predicted Stock prices for URC:\\n\\n\",df[0:10],\"\\n\")"
   ]
  },
  {
   "cell_type": "code",
   "execution_count": 534,
   "id": "330492a5",
   "metadata": {},
   "outputs": [],
   "source": [
    "#Uploading the forecast to csv\n",
    "import csv\n",
    "final.to_csv(\"bive_urc_forecast.csv\")"
   ]
  },
  {
   "cell_type": "code",
   "execution_count": null,
   "id": "cd40d2c9",
   "metadata": {},
   "outputs": [],
   "source": []
  }
 ],
 "metadata": {
  "kernelspec": {
   "display_name": "Python 3 (ipykernel)",
   "language": "python",
   "name": "python3"
  },
  "language_info": {
   "codemirror_mode": {
    "name": "ipython",
    "version": 3
   },
   "file_extension": ".py",
   "mimetype": "text/x-python",
   "name": "python",
   "nbconvert_exporter": "python",
   "pygments_lexer": "ipython3",
   "version": "3.9.12"
  }
 },
 "nbformat": 4,
 "nbformat_minor": 5
}
